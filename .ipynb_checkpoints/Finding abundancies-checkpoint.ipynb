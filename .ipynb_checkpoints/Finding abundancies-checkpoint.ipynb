{
 "cells": [
  {
   "cell_type": "code",
   "execution_count": 1,
   "metadata": {},
   "outputs": [],
   "source": [
    "import numpy as np\n",
    "import numpy.linalg as lg\n",
    "import networkx as nx\n",
    "import matplotlib.pyplot as plt"
   ]
  },
  {
   "cell_type": "code",
   "execution_count": 9,
   "metadata": {},
   "outputs": [],
   "source": [
    "G=nx.read_weighted_edgelist('Tortoise.txt') # Load in a file\n",
    "A=nx.to_numpy_array(G)"
   ]
  },
  {
   "cell_type": "code",
   "execution_count": 4,
   "metadata": {},
   "outputs": [],
   "source": [
    "def freqG(A):\n",
    "    n = len(A) # nodes\n",
    "    e = np.ones(n)\n",
    "    k = A@e # degrees.\n",
    "    m = np.sum(k)/2 # edges\n",
    "    Lambda, Q = lg.eigh(A)\n",
    "    # A number of matrices/vectors we'll need in our computations\n",
    "    A2 = A@A \n",
    "    A3 = A2@A\n",
    "    A2a = A2*A\n",
    "    A2b = A2 - np.diag(k)\n",
    "    F10s = sum(A2b*(A2b-1))/2\n",
    "    t = np.diag(A3)/2\n",
    "    tk = t*(k-2)\n",
    "    kk = k*(k-1)\n",
    "    # The fragments F1...F15\n",
    "    P2 = sum(kk/2)\n",
    "    C3 = sum(t)/3\n",
    "    P3 = (k-1).T@A@(k-1)/2-C3*3 \n",
    "    S13 = kk.T@(k-2)/6\n",
    "    C4 = (round(np.sum(Lambda**4)) - 4*P2 - 2*m)/8\n",
    "    T31 = sum(tk)\n",
    "    Diamond = sum(sum((A2a)*(A2a-1)))/4\n",
    "    C5 = (round(np.sum(Lambda**5)) - 30*C3 - 10*T31)/10 # Number of C5\n",
    "    Cr = tk.T@(k-3)/2\n",
    "    T41 = (k-2).T@F10s - 2*Diamond\n",
    "    Reindeer = (k-2).T@(A2*A)@(k-2)/2 - 2*Diamond\n",
    "    T32 = t.T@sum(A2b) - 6*C3 - 2*T31 - 4*Diamond\n",
    "    Bowtie = t.T@(t-1)/2-2*Diamond\n",
    "    House = sum(sum(A*A2*A3))/2-9*C3-2*T31-4*Diamond\n",
    "    C6 = (round(np.sum(Lambda**6)) - 2*m - 12*P2 -24*C3 - 6*P3 - 12*S13 - 48*C4 - 36*Diamond - 12*T41 - 24*Bowtie)/12\n",
    "    Count = np.array([P2, C3, P3, S13, C4, T31, Diamond, C5, Cr, T41, Reindeer, T32, Bowtie, House, C6])\n",
    "    return Count"
   ]
  },
  {
   "cell_type": "code",
   "execution_count": 5,
   "metadata": {},
   "outputs": [],
   "source": [
    "Count = freqG(A)"
   ]
  },
  {
   "cell_type": "code",
   "execution_count": 6,
   "metadata": {},
   "outputs": [],
   "source": [
    "Trials = 50 # Average over at least 50 random graphs\n",
    "CountR = np.zeros(15)\n",
    "n = len(A) # nodes\n",
    "e = np.ones(n)\n",
    "k = A@e # degrees.\n",
    "m = np.sum(k)/2 # edges\n",
    "for i in range(Trials):\n",
    "    R=nx.erdos_renyi_graph(n,2*m/n/(n-1))  # Here we create a random graph\n",
    "    AR=nx.to_numpy_array(R)    # The rest of the loop just makes use of the formulae calculate earlier\n",
    "    f = freqG(AR)\n",
    "    CountR = CountR + f\n",
    "CountR = CountR/Trials\n"
   ]
  },
  {
   "cell_type": "code",
   "execution_count": 7,
   "metadata": {},
   "outputs": [
    {
     "name": "stdout",
     "output_type": "stream",
     "text": [
      "[0.20344623 0.46436707 0.22005815 0.55369222 0.47551979 0.62159316\n",
      " 0.81076868 0.35169323 0.81702212 0.61249515 0.68804235 0.54103459\n",
      " 0.78643385 0.70968236 0.23949499]\n"
     ]
    }
   ],
   "source": [
    "abund=(Count-CountR)/(Count+CountR)\n",
    "print(abund)\n",
    "#If abund >.7 then we can call it a motif. If abund <-.5 it's an anti-motif"
   ]
  },
  {
   "cell_type": "code",
   "execution_count": 8,
   "metadata": {},
   "outputs": [
    {
     "name": "stdout",
     "output_type": "stream",
     "text": [
      "[ 528.   45. 2371. 1764.  154.  924.  151.  374. 4501. 3824. 4908. 3013.\n",
      "  266.  781.  969.]\n"
     ]
    }
   ],
   "source": [
    "print(Count)"
   ]
  },
  {
   "cell_type": "code",
   "execution_count": null,
   "metadata": {},
   "outputs": [],
   "source": []
  },
  {
   "cell_type": "code",
   "execution_count": null,
   "metadata": {},
   "outputs": [],
   "source": []
  }
 ],
 "metadata": {
  "kernelspec": {
   "display_name": "Python 3 (ipykernel)",
   "language": "python",
   "name": "python3"
  },
  "language_info": {
   "codemirror_mode": {
    "name": "ipython",
    "version": 3
   },
   "file_extension": ".py",
   "mimetype": "text/x-python",
   "name": "python",
   "nbconvert_exporter": "python",
   "pygments_lexer": "ipython3",
   "version": "3.11.2"
  }
 },
 "nbformat": 4,
 "nbformat_minor": 4
}
